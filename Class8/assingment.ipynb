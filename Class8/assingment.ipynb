{
 "cells": [
  {
   "cell_type": "code",
   "execution_count": 5,
   "metadata": {},
   "outputs": [
    {
     "name": "stdout",
     "output_type": "stream",
     "text": [
      "You have purchased 2 books.\n",
      "This earns you 5 points.\n"
     ]
    }
   ],
   "source": [
    "# Use if and elif statement to complete the task\n",
    "number = 0\n",
    "points = 0\n",
    "\n",
    "# Get the number of books purchased from the user\n",
    "number = int(input(\"Enter the number of books purchased:\"))\n",
    "\n",
    "if number == 2:\n",
    "    points = 5\n",
    "    print(\"You have purchased\", number, \"books.\")\n",
    "    print(\"This earns you\", points, \"points.\")\n",
    "elif number == 4:\n",
    "    points = 15\n",
    "    print(\"You have purchased\", number, \"books.\")\n",
    "    print(\"This earns you\", points, \"points.\")\n",
    "elif number == 6:\n",
    "    points = 30\n",
    "    print(\"You have purchased\", number, \"books.\")\n",
    "    print(\"This earns you\", points, \"points.\")\n",
    "elif number >= 8:\n",
    "    points = 60\n",
    "    print(\"You have purchased\", number, \"books.\")\n",
    "    print(\"This earns you\", points, \"points.\")\n",
    "else:\n",
    "    print(\"You have purchased\", number, \"books.\")\n",
    "    print(\"This earns you\", points, \"points.\")"
   ]
  },
  {
   "cell_type": "code",
   "execution_count": 10,
   "metadata": {},
   "outputs": [
    {
     "name": "stdout",
     "output_type": "stream",
     "text": [
      "Total hours in this week: 67\n",
      "Total gross pay: 1288.0\n"
     ]
    }
   ],
   "source": [
    "# Variables to represent the base hours and the overtime multiplier.\n",
    "base_hours = 40  # Base hours per week\n",
    "ot_multiplier = 1.5  # Overtime multiplier\n",
    "\n",
    "hour_week = int(input(\"Enter hour week.\"))\n",
    "hour_payment = int(input(\"Enter hour payment\"))\n",
    "\n",
    "if hour_week > base_hours:\n",
    "    overtime_hours = hour_week - base_hours\n",
    "    gross_pay = (base_hours + overtime_hours * ot_multiplier) * hour_payment\n",
    "else:\n",
    "    gross_pay = hour_week * hour_payment\n",
    "print(f\"Total hours in this week: {hour_week}\")\n",
    "print(f\"Total gross pay: {gross_pay}\")"
   ]
  },
  {
   "cell_type": "code",
   "execution_count": 11,
   "metadata": {},
   "outputs": [
    {
     "name": "stdout",
     "output_type": "stream",
     "text": [
      "customer qulify for a loan.\n"
     ]
    }
   ],
   "source": [
    "# This program determines whether a bank customer\n",
    "# qualifies for a loan.\n",
    "\n",
    "min_salary = 30000.0  # The minimum annual salary\n",
    "min_years = 2  # The minimum years on the job\n",
    "\n",
    "annual_salary = int(input(\"Enter a annual salary.\"))\n",
    "number_of_years = int(input(\"Enter a number of years\"))\n",
    "\n",
    "if annual_salary >= min_salary and number_of_years >= 2:\n",
    "    print(\"customer qulify for a loan.\")\n",
    "if annual_salary < min_salary:\n",
    "    print(\"need to make at least minimum salary which is 30000.\")\n",
    "if number_of_years < 2:\n",
    "    print(\"does not qualify for a loan\")"
   ]
  },
  {
   "cell_type": "code",
   "execution_count": 14,
   "metadata": {},
   "outputs": [
    {
     "name": "stdout",
     "output_type": "stream",
     "text": [
      "password doesnot match\n"
     ]
    }
   ],
   "source": [
    "# Get a password from the user.\n",
    "password = str(input(\"Enter a password:\"))\n",
    "if password == \"prospero\":\n",
    "    print(\"password match\")\n",
    "else:\n",
    "    print(\"password doesnot match\")"
   ]
  },
  {
   "cell_type": "code",
   "execution_count": null,
   "metadata": {},
   "outputs": [],
   "source": []
  }
 ],
 "metadata": {
  "kernelspec": {
   "display_name": "venv",
   "language": "python",
   "name": "python3"
  },
  "language_info": {
   "codemirror_mode": {
    "name": "ipython",
    "version": 3
   },
   "file_extension": ".py",
   "mimetype": "text/x-python",
   "name": "python",
   "nbconvert_exporter": "python",
   "pygments_lexer": "ipython3",
   "version": "3.11.1"
  },
  "orig_nbformat": 4,
  "vscode": {
   "interpreter": {
    "hash": "4bd58a8644b61b6c7d97eb55798a9755f8c5a7cb35df105ea1c909605ac889c8"
   }
  }
 },
 "nbformat": 4,
 "nbformat_minor": 2
}
