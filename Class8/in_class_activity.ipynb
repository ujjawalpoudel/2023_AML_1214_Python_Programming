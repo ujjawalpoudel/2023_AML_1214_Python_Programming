{
 "cells": [
  {
   "cell_type": "code",
   "execution_count": 12,
   "metadata": {},
   "outputs": [
    {
     "name": "stdout",
     "output_type": "stream",
     "text": [
      "Max number is  9\n"
     ]
    }
   ],
   "source": [
    "# Write down script to find out greatest number in between given 3 numbers\n",
    "numbers = [3, 6, 1, 5, 9, 2]\n",
    "\n",
    "max_val = 0\n",
    "\n",
    "for x in numbers:\n",
    "    if x > max_val:\n",
    "        max_val = x\n",
    "print(\"Max number is \", max_val)"
   ]
  },
  {
   "cell_type": "code",
   "execution_count": 11,
   "metadata": {},
   "outputs": [
    {
     "name": "stdout",
     "output_type": "stream",
     "text": [
      "['8', '6', '3']\n",
      "Max number is  8\n"
     ]
    }
   ],
   "source": [
    "# From input\n",
    "input_number = input(\"Enter the numbers\")\n",
    "numbers = input_number.split(\" \")\n",
    "\n",
    "max_val = 0\n",
    "\n",
    "for x in numbers:\n",
    "    integer_x = int(x)\n",
    "    if integer_x > max_val:\n",
    "        max_val = integer_x\n",
    "print(\"Max number is \", max_val)"
   ]
  },
  {
   "cell_type": "code",
   "execution_count": 16,
   "metadata": {},
   "outputs": [
    {
     "name": "stdout",
     "output_type": "stream",
     "text": [
      "True\n",
      "True\n",
      "False\n"
     ]
    }
   ],
   "source": [
    "a = [\"Windows\", \"Linux\", \"Mac OS\"]\n",
    "b = [\"Windows\", \"Linux\", \"Mac OS\"]\n",
    "\n",
    "c = a\n",
    "d = c\n",
    "\n",
    "print(\n",
    "    a is b\n",
    ")  # return false as a and b are different objects (two memory locations - same content)\n",
    "print(\n",
    "    b is a\n",
    ")  # return false as a and b are different objects (two memory locations - same content)\n",
    "print(a is c)"
   ]
  },
  {
   "cell_type": "code",
   "execution_count": 20,
   "metadata": {},
   "outputs": [
    {
     "name": "stdout",
     "output_type": "stream",
     "text": [
      "6\n"
     ]
    }
   ],
   "source": [
    "# Ternary operator\n",
    "a = 4\n",
    "b = 6\n",
    "c = 9\n",
    "\n",
    "max = a if a > b else b\n",
    "print(max)"
   ]
  },
  {
   "cell_type": "code",
   "execution_count": 24,
   "metadata": {},
   "outputs": [
    {
     "name": "stdout",
     "output_type": "stream",
     "text": [
      "Number 5 is odd\n"
     ]
    }
   ],
   "source": [
    "a = 5\n",
    "even_odd = \"even\" if a % 2 == 0 else \"odd\"\n",
    "print(f\"Number {a} is {even_odd}\")"
   ]
  },
  {
   "cell_type": "code",
   "execution_count": null,
   "metadata": {},
   "outputs": [],
   "source": []
  }
 ],
 "metadata": {
  "kernelspec": {
   "display_name": "venv",
   "language": "python",
   "name": "python3"
  },
  "language_info": {
   "codemirror_mode": {
    "name": "ipython",
    "version": 3
   },
   "file_extension": ".py",
   "mimetype": "text/x-python",
   "name": "python",
   "nbconvert_exporter": "python",
   "pygments_lexer": "ipython3",
   "version": "3.11.1"
  },
  "orig_nbformat": 4,
  "vscode": {
   "interpreter": {
    "hash": "4bd58a8644b61b6c7d97eb55798a9755f8c5a7cb35df105ea1c909605ac889c8"
   }
  }
 },
 "nbformat": 4,
 "nbformat_minor": 2
}
