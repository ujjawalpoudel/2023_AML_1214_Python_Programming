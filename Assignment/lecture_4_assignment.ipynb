{
 "cells": [
  {
   "cell_type": "code",
   "execution_count": 1,
   "id": "f07c0779",
   "metadata": {},
   "outputs": [
    {
     "name": "stdout",
     "output_type": "stream",
     "text": [
      "['guest1', 'guest2', 'guest3', 'guest4']\n"
     ]
    }
   ],
   "source": [
    "\"\"\" This is Coding Practices assignment\"\"\"\n",
    "\n",
    "# * Problem 1\n",
    "# * 3 - 4 guest\n",
    "\n",
    "guest_list = [\"guest1\", \"guest2\", \"guest3\", \"guest4\"]\n",
    "print(guest_list)"
   ]
  },
  {
   "cell_type": "code",
   "execution_count": 2,
   "id": "05a6ed0e",
   "metadata": {},
   "outputs": [
    {
     "name": "stdout",
     "output_type": "stream",
     "text": [
      "Hello guest1, I am inviting you for dinner tonight.\n",
      "Hello guest2, I am inviting you for dinner tonight.\n",
      "Hello guest3, I am inviting you for dinner tonight.\n",
      "Hello guest4, I am inviting you for dinner tonight.\n"
     ]
    }
   ],
   "source": [
    "# * Print message to particular guest using a for loop\n",
    "for guest_name in guest_list:\n",
    "    print(f\"Hello {guest_name}, I am inviting you for dinner tonight.\")"
   ]
  },
  {
   "cell_type": "code",
   "execution_count": 3,
   "id": "5df5c99c",
   "metadata": {},
   "outputs": [
    {
     "name": "stdout",
     "output_type": "stream",
     "text": [
      "guest4 will not able to join the dinner party.\n"
     ]
    }
   ],
   "source": [
    "# * Next problem :- Update guest list\n",
    "# * Suppose the guest4 will not able to join the dinner party.\n",
    "# * Print message, guest4 will not able to join the dinner party.\n",
    "print(\"guest4 will not able to join the dinner party.\")"
   ]
  },
  {
   "cell_type": "code",
   "execution_count": 4,
   "id": "b9c0559e",
   "metadata": {},
   "outputs": [
    {
     "name": "stdout",
     "output_type": "stream",
     "text": [
      "['guest1', 'guest2', 'guest3', 'guest10']\n"
     ]
    }
   ],
   "source": [
    "# * So that, invite guest10 to the dinner party.\n",
    "guest_list[3] = \"guest10\"\n",
    "\n",
    "# * Print new guest list\n",
    "print(guest_list)"
   ]
  },
  {
   "cell_type": "code",
   "execution_count": 5,
   "id": "90a8d6c0",
   "metadata": {},
   "outputs": [
    {
     "name": "stdout",
     "output_type": "stream",
     "text": [
      "Hello guest1, I am inviting you for dinner tonight.\n",
      "Hello guest2, I am inviting you for dinner tonight.\n",
      "Hello guest3, I am inviting you for dinner tonight.\n",
      "Hello guest10, I am inviting you for dinner tonight.\n"
     ]
    }
   ],
   "source": [
    "# * Circulate message to particular guest using a for loop\n",
    "# * Use f-string to print message\n",
    "for guest_name in guest_list:\n",
    "    print(f\"Hello {guest_name}, I am inviting you for dinner tonight.\")"
   ]
  },
  {
   "cell_type": "code",
   "execution_count": 6,
   "id": "fdec48f4",
   "metadata": {},
   "outputs": [
    {
     "name": "stdout",
     "output_type": "stream",
     "text": [
      "Note:- More guests will come so we need bigger dinning table\n"
     ]
    }
   ],
   "source": [
    "# * Problem 3, more guests will come so we need bigger dinning table\n",
    "print(\"Note:- More guests will come so we need bigger dinning table\")"
   ]
  },
  {
   "cell_type": "code",
   "execution_count": 7,
   "id": "2d04f2f5",
   "metadata": {},
   "outputs": [
    {
     "name": "stdout",
     "output_type": "stream",
     "text": [
      "['guest5', 'guest1', 'guest2', 'guest3', 'guest10']\n"
     ]
    }
   ],
   "source": [
    "# * Use insert method of list to add new guest in list\n",
    "# * I add guest5 in the initial index of the list, by using 0, it means first index of the list.\n",
    "guest_list.insert(0, \"guest5\")\n",
    "print(guest_list)"
   ]
  },
  {
   "cell_type": "code",
   "execution_count": 8,
   "id": "b864816b",
   "metadata": {},
   "outputs": [
    {
     "name": "stdout",
     "output_type": "stream",
     "text": [
      "['guest5', 'guest1', 'guest2', 'guest3', 'guest6', 'guest10']\n"
     ]
    }
   ],
   "source": [
    "# * Similarly, add guest6 in the middle index of the list, by using 4, it means fourth index\n",
    "guest_list.insert(4, \"guest6\")\n",
    "print(guest_list)"
   ]
  },
  {
   "cell_type": "code",
   "execution_count": 9,
   "id": "d77bbb6f",
   "metadata": {},
   "outputs": [
    {
     "name": "stdout",
     "output_type": "stream",
     "text": [
      "['guest5', 'guest1', 'guest2', 'guest3', 'guest6', 'guest10', 'guest7']\n"
     ]
    }
   ],
   "source": [
    "# * Similarly, use append method to add new guest in list\n",
    "guest_list.append(\"guest7\")\n",
    "print(guest_list)"
   ]
  },
  {
   "cell_type": "code",
   "execution_count": 10,
   "id": "fd6fdd1e",
   "metadata": {},
   "outputs": [
    {
     "name": "stdout",
     "output_type": "stream",
     "text": [
      "Hello guest5, I am inviting you for dinner tonight.\n",
      "Hello guest1, I am inviting you for dinner tonight.\n",
      "Hello guest2, I am inviting you for dinner tonight.\n",
      "Hello guest3, I am inviting you for dinner tonight.\n",
      "Hello guest6, I am inviting you for dinner tonight.\n",
      "Hello guest10, I am inviting you for dinner tonight.\n",
      "Hello guest7, I am inviting you for dinner tonight.\n"
     ]
    }
   ],
   "source": [
    "# * Send invitation message to all the guests using a for loop\n",
    "for guest_name in guest_list:\n",
    "    print(f\"Hello {guest_name}, I am inviting you for dinner tonight.\")"
   ]
  },
  {
   "cell_type": "code",
   "execution_count": 11,
   "id": "7e29b530",
   "metadata": {},
   "outputs": [
    {
     "name": "stdout",
     "output_type": "stream",
     "text": [
      "Invitation message, only two guest named as guest5 and guest1 are inviting you for dinner tonight.\n"
     ]
    }
   ],
   "source": [
    "# * Problem 4, print invitation message to only two guest\n",
    "print(\n",
    "    f\"Invitation message, only two guest named as {guest_list[0]} and {guest_list[1]} are inviting you for dinner tonight.\"\n",
    ")"
   ]
  },
  {
   "cell_type": "code",
   "execution_count": 12,
   "id": "a8a32e37",
   "metadata": {},
   "outputs": [
    {
     "name": "stdout",
     "output_type": "stream",
     "text": [
      "['guest5', 'guest1']\n"
     ]
    }
   ],
   "source": [
    "# * Remove all guests except guest_list[0] and guest_list[1]\n",
    "# * Note: pop method removes the last element from the list.\n",
    "# * I invited only guest having index 0 and index 1 from the list.\n",
    "guest_list.pop()\n",
    "guest_list.pop()\n",
    "guest_list.pop()\n",
    "guest_list.pop()\n",
    "guest_list.pop()\n",
    "print(guest_list)"
   ]
  },
  {
   "cell_type": "code",
   "execution_count": 13,
   "id": "b47525cf",
   "metadata": {},
   "outputs": [
    {
     "name": "stdout",
     "output_type": "stream",
     "text": [
      "Hello guest5, I am inviting you for dinner tonight.\n",
      "Hello guest1, I am inviting you for dinner tonight.\n"
     ]
    }
   ],
   "source": [
    "# * Circulate message to particular guest using a for loop\n",
    "for guest_name in guest_list:\n",
    "    print(f\"Hello {guest_name}, I am inviting you for dinner tonight.\")"
   ]
  },
  {
   "cell_type": "code",
   "execution_count": 14,
   "id": "12d6d3f0",
   "metadata": {},
   "outputs": [
    {
     "name": "stdout",
     "output_type": "stream",
     "text": [
      "['guest5']\n"
     ]
    }
   ],
   "source": [
    "# * Use del method to remove guest_list[0] and guest_list[1]\n",
    "# * First delete guest_list[1], index 1 item is deleted from the list.\n",
    "del guest_list[1]\n",
    "print(guest_list)"
   ]
  },
  {
   "cell_type": "code",
   "execution_count": 15,
   "id": "f5895bb2",
   "metadata": {},
   "outputs": [
    {
     "name": "stdout",
     "output_type": "stream",
     "text": [
      "[]\n"
     ]
    }
   ],
   "source": [
    "# * Second delete guest_list[0], index 0 item is deleted from the list.\n",
    "del guest_list[0]\n",
    "print(guest_list)"
   ]
  },
  {
   "cell_type": "code",
   "execution_count": 16,
   "id": "1ed35f8a",
   "metadata": {},
   "outputs": [
    {
     "name": "stdout",
     "output_type": "stream",
     "text": [
      "[]\n"
     ]
    }
   ],
   "source": [
    "# * Print guest_list to show there is no guest in the list.\n",
    "print(guest_list)"
   ]
  },
  {
   "cell_type": "code",
   "execution_count": 17,
   "id": "f64a43a6",
   "metadata": {},
   "outputs": [
    {
     "name": "stdout",
     "output_type": "stream",
     "text": [
      "world2\n",
      "world1\n",
      "world4\n",
      "world3\n",
      "world5\n"
     ]
    }
   ],
   "source": [
    "# * Problem 5, Seeing the world\n",
    "world_list = [\"world2\", \"world1\", \"world4\", \"world3\", \"world5\"]\n",
    "\n",
    "# * Print world_list using raw python print function\n",
    "print(world_list[0])\n",
    "print(world_list[1])\n",
    "print(world_list[2])\n",
    "print(world_list[3])\n",
    "print(world_list[4])"
   ]
  },
  {
   "cell_type": "code",
   "execution_count": 18,
   "id": "29233adb",
   "metadata": {},
   "outputs": [
    {
     "name": "stdout",
     "output_type": "stream",
     "text": [
      "sorted_list ['world1', 'world2', 'world3', 'world4', 'world5']\n"
     ]
    }
   ],
   "source": [
    "# * Using sorted method to sort the list\n",
    "sorted_list = sorted(world_list)\n",
    "print(\"sorted_list\", sorted_list)"
   ]
  },
  {
   "cell_type": "code",
   "execution_count": 19,
   "id": "9f28b0d6",
   "metadata": {},
   "outputs": [
    {
     "name": "stdout",
     "output_type": "stream",
     "text": [
      "original world_list ['world2', 'world1', 'world4', 'world3', 'world5']\n"
     ]
    }
   ],
   "source": [
    "# * Print original list, to show it is not modified\n",
    "print(\"original world_list\", world_list)"
   ]
  },
  {
   "cell_type": "code",
   "execution_count": 20,
   "id": "d7f1a702",
   "metadata": {},
   "outputs": [
    {
     "name": "stdout",
     "output_type": "stream",
     "text": [
      "reversed world_list ['world5', 'world3', 'world4', 'world1', 'world2']\n"
     ]
    }
   ],
   "source": [
    "# * Use reverse method to reverse the list\n",
    "world_list.reverse()\n",
    "\n",
    "# * Print reversed list, to show it is modified\n",
    "print(\"reversed world_list\", world_list)"
   ]
  },
  {
   "cell_type": "code",
   "execution_count": 21,
   "id": "a1b05c5b",
   "metadata": {},
   "outputs": [
    {
     "name": "stdout",
     "output_type": "stream",
     "text": [
      "back to original world_list ['world2', 'world1', 'world4', 'world3', 'world5']\n"
     ]
    }
   ],
   "source": [
    "# * Again use reverse method to return original list\n",
    "world_list.reverse()\n",
    "\n",
    "# * Print world_list, to show it is back to original list\n",
    "print(\"back to original world_list\", world_list)"
   ]
  },
  {
   "cell_type": "code",
   "execution_count": 22,
   "id": "a996155b",
   "metadata": {},
   "outputs": [
    {
     "name": "stdout",
     "output_type": "stream",
     "text": [
      "sorted world_list ['world1', 'world2', 'world3', 'world4', 'world5']\n"
     ]
    }
   ],
   "source": [
    "# * Sort world list using sort method of python\n",
    "world_list.sort()\n",
    "\n",
    "# * Print world_list, to show it is sorted\n",
    "print(\"sorted world_list\", world_list)"
   ]
  },
  {
   "cell_type": "code",
   "execution_count": 23,
   "id": "ce455a68",
   "metadata": {},
   "outputs": [
    {
     "name": "stdout",
     "output_type": "stream",
     "text": [
      "sorted world_list in reverse alphabetically ['world5', 'world4', 'world3', 'world2', 'world1']\n"
     ]
    }
   ],
   "source": [
    "# * Sort world list in reverse alphabetically using sort method of python\n",
    "world_list.sort(reverse=True)\n",
    "\n",
    "# * Print world_list, to show it is sorted in reverse alphabetically\n",
    "print(\"sorted world_list in reverse alphabetically\", world_list)"
   ]
  },
  {
   "cell_type": "code",
   "execution_count": 24,
   "id": "e8a2f30c",
   "metadata": {},
   "outputs": [
    {
     "name": "stdout",
     "output_type": "stream",
     "text": [
      "Number of guests is 0\n"
     ]
    }
   ],
   "source": [
    "# * Problem 6, Dinner Guest, print number of guests\n",
    "# * It might show 0 guest while printing because in above problem (shrinking guest list), we delete all guests except guest_list[0] and guest_list[1].\n",
    "print(f\"Number of guests is {len(guest_list)}\")"
   ]
  },
  {
   "cell_type": "code",
   "execution_count": 25,
   "id": "e133d702",
   "metadata": {},
   "outputs": [
    {
     "name": "stdout",
     "output_type": "stream",
     "text": [
      "['mountain', 'river', 'country', 'city', 'city', 'house']\n"
     ]
    }
   ],
   "source": [
    "# * Problem 7, Every Function\n",
    "# * Implemenation of every function in list for mountain, river, country, city , etc.\n",
    "\n",
    "# * First initialize empty list\n",
    "all_functions = []\n",
    "\n",
    "# * Add mountain, river, country, city in all_functions list\n",
    "all_functions.append(\"mountain\")\n",
    "all_functions.append(\"river\")\n",
    "all_functions.append(\"country\")\n",
    "all_functions.append(\"city\")\n",
    "all_functions.append(\"city\")\n",
    "all_functions.append(\"house\")\n",
    "\n",
    "# * Print mountain, river, country, city in all_functions list\n",
    "print(all_functions)"
   ]
  },
  {
   "cell_type": "code",
   "execution_count": 26,
   "id": "c9cc8953",
   "metadata": {},
   "outputs": [
    {
     "name": "stdout",
     "output_type": "stream",
     "text": [
      "2\n"
     ]
    }
   ],
   "source": [
    "# * Implement count method in list datatype\n",
    "# * Count:- it count number of repeatation of each element in the list\n",
    "print(all_functions.count(\"city\"))"
   ]
  },
  {
   "cell_type": "code",
   "execution_count": 27,
   "id": "440a3f99",
   "metadata": {},
   "outputs": [
    {
     "name": "stdout",
     "output_type": "stream",
     "text": [
      "1\n"
     ]
    }
   ],
   "source": [
    "# * Implement index method in list datatype\n",
    "# * Return the index of the element in the list\n",
    "print(all_functions.index(\"river\"))"
   ]
  },
  {
   "cell_type": "code",
   "execution_count": 28,
   "id": "eb08283d",
   "metadata": {},
   "outputs": [
    {
     "name": "stdout",
     "output_type": "stream",
     "text": [
      "['mountain', 'mountain', 'river', 'country', 'city', 'city', 'house']\n"
     ]
    }
   ],
   "source": [
    "# * Insert mountain in all_functions list\n",
    "# * Add mountain in index 0 of all_functions list\n",
    "all_functions.insert(0, \"mountain\")\n",
    "print(all_functions)"
   ]
  },
  {
   "cell_type": "code",
   "execution_count": 29,
   "id": "47a8b1ac",
   "metadata": {},
   "outputs": [
    {
     "name": "stdout",
     "output_type": "stream",
     "text": [
      "['mountain', 'river', 'country', 'city', 'city', 'house']\n"
     ]
    }
   ],
   "source": [
    "# * Implement pop function to remove item from all_functions list\n",
    "# * Remove mountain in index 0 of all_functions list\n",
    "all_functions.pop(0)\n",
    "\n",
    "# * Print to show index 0 item is removed from all_functions list\n",
    "print(all_functions)"
   ]
  },
  {
   "cell_type": "code",
   "execution_count": 30,
   "id": "76caa6ad",
   "metadata": {},
   "outputs": [
    {
     "name": "stdout",
     "output_type": "stream",
     "text": [
      "['river', 'country', 'city', 'city', 'house']\n"
     ]
    }
   ],
   "source": [
    "# * Implement remove method to remove item from all_functions list\n",
    "# * Remove mountain from all_functions list\n",
    "all_functions.remove(\"mountain\")\n",
    "\n",
    "# * Print to show mountain is removed from all_functions list\n",
    "print(all_functions)"
   ]
  },
  {
   "cell_type": "code",
   "execution_count": 31,
   "id": "c5f317d4",
   "metadata": {},
   "outputs": [
    {
     "name": "stdout",
     "output_type": "stream",
     "text": [
      "reverse ['house', 'city', 'city', 'country', 'river']\n"
     ]
    }
   ],
   "source": [
    "# * Implement reverse method to reverse all_functions list\n",
    "all_functions.reverse()\n",
    "\n",
    "# * Print to show all_functions list is reversed\n",
    "print(\"reverse\", all_functions)"
   ]
  },
  {
   "cell_type": "code",
   "execution_count": 32,
   "id": "a94fc59f",
   "metadata": {},
   "outputs": [
    {
     "name": "stdout",
     "output_type": "stream",
     "text": [
      "sorted ['city', 'city', 'country', 'house', 'river']\n"
     ]
    }
   ],
   "source": [
    "# * Implement sort function\n",
    "all_functions.sort()\n",
    "\n",
    "# * Print to show all_functions list is sorted\n",
    "print(\"sorted\", all_functions)"
   ]
  },
  {
   "cell_type": "code",
   "execution_count": 33,
   "id": "6475b5e9",
   "metadata": {},
   "outputs": [
    {
     "name": "stdout",
     "output_type": "stream",
     "text": [
      "{'course1': 'Instrutor1', 'course2': 'Instrutor2', 'course3': 'Instrutor3', 'course4': 'Instrutor4', 'course5': 'Instrutor5', 'course6': 'Instrutor6', 'course7': 'Instrutor7'}\n"
     ]
    }
   ],
   "source": [
    "# * Problem Dictionary practice\n",
    "# * Initialize course dictionary with key as course name and value as instructor name\n",
    "course_dictionary = {\n",
    "    \"course1\": \"Instrutor1\",\n",
    "    \"course2\": \"Instrutor2\",\n",
    "    \"course3\": \"Instrutor3\",\n",
    "    \"course4\": \"Instrutor4\",\n",
    "    \"course5\": \"Instrutor5\",\n",
    "    \"course6\": \"Instrutor6\",\n",
    "    \"course7\": \"Instrutor7\",\n",
    "}\n",
    "print(course_dictionary)"
   ]
  },
  {
   "cell_type": "code",
   "execution_count": 34,
   "id": "b65e486a",
   "metadata": {},
   "outputs": [
    {
     "name": "stdout",
     "output_type": "stream",
     "text": [
      "{'course1': 'Instrutor1', 'course2': 'Instrutor2', 'course3': 'Instrutor3_replace', 'course4': 'Instrutor4', 'course5': 'Instrutor5', 'course6': 'Instrutor6', 'course7': 'Instrutor7'}\n"
     ]
    }
   ],
   "source": [
    "# * Rename course instructor name of course3\n",
    "course_dictionary[\"course3\"] = \"Instrutor3_replace\"\n",
    "\n",
    "# * Print course_dictionary\n",
    "print(course_dictionary)"
   ]
  }
 ],
 "metadata": {
  "kernelspec": {
   "display_name": "Python 3 (ipykernel)",
   "language": "python",
   "name": "python3"
  },
  "language_info": {
   "codemirror_mode": {
    "name": "ipython",
    "version": 3
   },
   "file_extension": ".py",
   "mimetype": "text/x-python",
   "name": "python",
   "nbconvert_exporter": "python",
   "pygments_lexer": "ipython3",
   "version": "3.9.13"
  }
 },
 "nbformat": 4,
 "nbformat_minor": 5
}
