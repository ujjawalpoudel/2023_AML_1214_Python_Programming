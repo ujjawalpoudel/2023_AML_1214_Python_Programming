{
 "cells": [
  {
   "cell_type": "code",
   "execution_count": 28,
   "metadata": {},
   "outputs": [
    {
     "name": "stdout",
     "output_type": "stream",
     "text": [
      "example of floor division 3.3333333333333335\n"
     ]
    }
   ],
   "source": [
    "# Modulus and floor division\n",
    "a = 10\n",
    "b = 3\n",
    "\n",
    "# floor division\n",
    "print(\"example of floor division\", a/b)"
   ]
  },
  {
   "cell_type": "code",
   "execution_count": 29,
   "metadata": {},
   "outputs": [
    {
     "name": "stdout",
     "output_type": "stream",
     "text": [
      "modulus:  1\n"
     ]
    }
   ],
   "source": [
    "# modulus means reminder of the division\n",
    "c = a% b\n",
    "print(\"modulus: \", c)"
   ]
  },
  {
   "cell_type": "code",
   "execution_count": 30,
   "metadata": {},
   "outputs": [
    {
     "name": "stdout",
     "output_type": "stream",
     "text": [
      "quotient 3\n"
     ]
    }
   ],
   "source": [
    "# quotient\n",
    "c = a//b\n",
    "print(\"quotient\",c)"
   ]
  },
  {
   "cell_type": "code",
   "execution_count": 31,
   "metadata": {},
   "outputs": [
    {
     "name": "stdout",
     "output_type": "stream",
     "text": [
      "example of assignment =  10\n"
     ]
    }
   ],
   "source": [
    "# Assignment operator\n",
    "a = 10\n",
    "\n",
    "# Assignment =\n",
    "c = a\n",
    "print(\"example of assignment = \", c)"
   ]
  },
  {
   "cell_type": "code",
   "execution_count": 32,
   "metadata": {},
   "outputs": [
    {
     "name": "stdout",
     "output_type": "stream",
     "text": [
      "assignment +=  15\n"
     ]
    }
   ],
   "source": [
    "# assignment +=\n",
    "c += 5\n",
    "print(\"assignment += \", c)"
   ]
  },
  {
   "cell_type": "code",
   "execution_count": 33,
   "metadata": {},
   "outputs": [
    {
     "name": "stdout",
     "output_type": "stream",
     "text": [
      "assignment -=  13\n"
     ]
    }
   ],
   "source": [
    "# assignment -=\n",
    "c -= 2\n",
    "print(\"assignment -= \", c)"
   ]
  },
  {
   "cell_type": "code",
   "execution_count": 34,
   "metadata": {},
   "outputs": [
    {
     "name": "stdout",
     "output_type": "stream",
     "text": [
      "assignment *=  26\n"
     ]
    }
   ],
   "source": [
    "# assignment *=\n",
    "c *= 2\n",
    "print(\"assignment *= \", c)"
   ]
  },
  {
   "cell_type": "code",
   "execution_count": 35,
   "metadata": {},
   "outputs": [
    {
     "name": "stdout",
     "output_type": "stream",
     "text": [
      "assignment operator /=  13.0\n"
     ]
    }
   ],
   "source": [
    "# assignment operator /=\n",
    "c /= 2\n",
    "print(\"assignment operator /= \", c)"
   ]
  },
  {
   "cell_type": "code",
   "execution_count": null,
   "metadata": {},
   "outputs": [],
   "source": []
  }
 ],
 "metadata": {
  "kernelspec": {
   "display_name": "venv",
   "language": "python",
   "name": "python3"
  },
  "language_info": {
   "codemirror_mode": {
    "name": "ipython",
    "version": 3
   },
   "file_extension": ".py",
   "mimetype": "text/x-python",
   "name": "python",
   "nbconvert_exporter": "python",
   "pygments_lexer": "ipython3",
   "version": "3.11.1"
  },
  "orig_nbformat": 4,
  "vscode": {
   "interpreter": {
    "hash": "4bd58a8644b61b6c7d97eb55798a9755f8c5a7cb35df105ea1c909605ac889c8"
   }
  }
 },
 "nbformat": 4,
 "nbformat_minor": 2
}
