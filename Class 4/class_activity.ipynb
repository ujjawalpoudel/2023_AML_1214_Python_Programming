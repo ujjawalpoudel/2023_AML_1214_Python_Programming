{
 "cells": [
  {
   "cell_type": "code",
   "execution_count": 50,
   "metadata": {},
   "outputs": [
    {
     "name": "stdout",
     "output_type": "stream",
     "text": [
      "example of floor division 3.3333333333333335\n"
     ]
    }
   ],
   "source": [
    "# Modulus and floor division\n",
    "a = 10\n",
    "b = 3\n",
    "\n",
    "# floor division\n",
    "print(\"example of floor division\", a / b)"
   ]
  },
  {
   "cell_type": "code",
   "execution_count": 51,
   "metadata": {},
   "outputs": [
    {
     "name": "stdout",
     "output_type": "stream",
     "text": [
      "modulus:  1\n"
     ]
    }
   ],
   "source": [
    "# modulus means reminder of the division\n",
    "c = a % b\n",
    "print(\"modulus: \", c)"
   ]
  },
  {
   "cell_type": "code",
   "execution_count": 52,
   "metadata": {},
   "outputs": [
    {
     "name": "stdout",
     "output_type": "stream",
     "text": [
      "quotient 3\n"
     ]
    }
   ],
   "source": [
    "# quotient\n",
    "c = a // b\n",
    "print(\"quotient\", c)"
   ]
  },
  {
   "cell_type": "code",
   "execution_count": 53,
   "metadata": {},
   "outputs": [
    {
     "name": "stdout",
     "output_type": "stream",
     "text": [
      "example of assignment =  10\n"
     ]
    }
   ],
   "source": [
    "# Assignment operator\n",
    "a = 10\n",
    "\n",
    "# Assignment =\n",
    "c = a\n",
    "print(\"example of assignment = \", c)"
   ]
  },
  {
   "cell_type": "code",
   "execution_count": 54,
   "metadata": {},
   "outputs": [
    {
     "name": "stdout",
     "output_type": "stream",
     "text": [
      "assignment +=  15\n"
     ]
    }
   ],
   "source": [
    "# assignment +=\n",
    "c += 5\n",
    "print(\"assignment += \", c)"
   ]
  },
  {
   "cell_type": "code",
   "execution_count": 55,
   "metadata": {},
   "outputs": [
    {
     "name": "stdout",
     "output_type": "stream",
     "text": [
      "assignment -=  13\n"
     ]
    }
   ],
   "source": [
    "# assignment -=\n",
    "c -= 2\n",
    "print(\"assignment -= \", c)"
   ]
  },
  {
   "cell_type": "code",
   "execution_count": 56,
   "metadata": {},
   "outputs": [
    {
     "name": "stdout",
     "output_type": "stream",
     "text": [
      "assignment *=  26\n"
     ]
    }
   ],
   "source": [
    "# assignment *=\n",
    "c *= 2\n",
    "print(\"assignment *= \", c)"
   ]
  },
  {
   "cell_type": "code",
   "execution_count": 57,
   "metadata": {},
   "outputs": [
    {
     "name": "stdout",
     "output_type": "stream",
     "text": [
      "assignment operator /=  13.0\n"
     ]
    }
   ],
   "source": [
    "# assignment operator /=\n",
    "c /= 2\n",
    "print(\"assignment operator /= \", c)"
   ]
  },
  {
   "cell_type": "code",
   "execution_count": 58,
   "metadata": {},
   "outputs": [
    {
     "name": "stdout",
     "output_type": "stream",
     "text": [
      "10\n"
     ]
    }
   ],
   "source": [
    "# Internal Math Functions\n",
    "\n",
    "# absolute values\n",
    "a = -10\n",
    "print(abs(a))"
   ]
  },
  {
   "cell_type": "code",
   "execution_count": 59,
   "metadata": {},
   "outputs": [
    {
     "name": "stdout",
     "output_type": "stream",
     "text": [
      "10\n"
     ]
    }
   ],
   "source": [
    "# min value\n",
    "a = 10\n",
    "b = 20\n",
    "print(min(a, b))"
   ]
  },
  {
   "cell_type": "code",
   "execution_count": 60,
   "metadata": {},
   "outputs": [
    {
     "name": "stdout",
     "output_type": "stream",
     "text": [
      "maximum value 35\n"
     ]
    }
   ],
   "source": [
    "# max value\n",
    "a = 25\n",
    "b = 35\n",
    "print(\"maximum value\", max(a, b))"
   ]
  },
  {
   "cell_type": "code",
   "execution_count": 61,
   "metadata": {},
   "outputs": [
    {
     "name": "stdout",
     "output_type": "stream",
     "text": [
      "power in number 16\n"
     ]
    }
   ],
   "source": [
    "# power in number\n",
    "a = 2\n",
    "b = 4\n",
    "print(\"power in number\", pow(a, b))"
   ]
  },
  {
   "cell_type": "code",
   "execution_count": 62,
   "metadata": {},
   "outputs": [
    {
     "name": "stdout",
     "output_type": "stream",
     "text": [
      "rounding the value 5\n"
     ]
    }
   ],
   "source": [
    "# round the floating point\n",
    "a = 4.567\n",
    "print(\"rounding the value\", round(a))"
   ]
  },
  {
   "cell_type": "code",
   "execution_count": 63,
   "metadata": {},
   "outputs": [
    {
     "name": "stdout",
     "output_type": "stream",
     "text": [
      "random value 4\n"
     ]
    }
   ],
   "source": [
    "# random value generator\n",
    "\n",
    "# import python package\n",
    "import random\n",
    "\n",
    "\n",
    "# randint generate single random number\n",
    "print(\"random value\", random.randint(4, 50))"
   ]
  },
  {
   "cell_type": "code",
   "execution_count": 64,
   "metadata": {},
   "outputs": [
    {
     "name": "stdout",
     "output_type": "stream",
     "text": [
      "random number generator with certain step 99\n"
     ]
    }
   ],
   "source": [
    "# random number generator with certain step\n",
    "print(\"random number generator with certain step\", random.randrange(0, 100, 3))"
   ]
  },
  {
   "cell_type": "code",
   "execution_count": null,
   "metadata": {},
   "outputs": [],
   "source": []
  }
 ],
 "metadata": {
  "kernelspec": {
   "display_name": "venv",
   "language": "python",
   "name": "python3"
  },
  "language_info": {
   "codemirror_mode": {
    "name": "ipython",
    "version": 3
   },
   "file_extension": ".py",
   "mimetype": "text/x-python",
   "name": "python",
   "nbconvert_exporter": "python",
   "pygments_lexer": "ipython3",
   "version": "3.11.1"
  },
  "orig_nbformat": 4,
  "vscode": {
   "interpreter": {
    "hash": "4bd58a8644b61b6c7d97eb55798a9755f8c5a7cb35df105ea1c909605ac889c8"
   }
  }
 },
 "nbformat": 4,
 "nbformat_minor": 2
}
