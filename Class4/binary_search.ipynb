{
 "cells": [
  {
   "cell_type": "code",
   "execution_count": 27,
   "metadata": {},
   "outputs": [
    {
     "name": "stdout",
     "output_type": "stream",
     "text": [
      "11\n"
     ]
    }
   ],
   "source": [
    "# implement binary search algorithm\n",
    "\n",
    "test_list = [2, 6, 8, 10, 14, 17, 23, 32, 38, 40, 44, 48, 50, 56, 63]\n",
    "\n",
    "length = len(test_list)\n",
    "beginning = 1\n",
    "ending = length\n",
    "\n",
    "value = 44\n",
    "\n",
    "\n",
    "def binary_search(arr, beginning, ending, value):\n",
    "    while beginning < ending:\n",
    "        mid = (beginning + ending) // 2\n",
    "        if value < arr[mid]:\n",
    "            ending = mid\n",
    "        elif value > arr[mid]:\n",
    "            beginning = mid\n",
    "        else:\n",
    "            return mid + 1\n",
    "\n",
    "\n",
    "print(binary_search(test_list, beginning, ending, value))"
   ]
  },
  {
   "cell_type": "code",
   "execution_count": null,
   "metadata": {},
   "outputs": [],
   "source": []
  }
 ],
 "metadata": {
  "kernelspec": {
   "display_name": "Python 3 (ipykernel)",
   "language": "python",
   "name": "python3"
  },
  "language_info": {
   "codemirror_mode": {
    "name": "ipython",
    "version": 3
   },
   "file_extension": ".py",
   "mimetype": "text/x-python",
   "name": "python",
   "nbconvert_exporter": "python",
   "pygments_lexer": "ipython3",
   "version": "3.9.13"
  },
  "vscode": {
   "interpreter": {
    "hash": "4bd58a8644b61b6c7d97eb55798a9755f8c5a7cb35df105ea1c909605ac889c8"
   }
  }
 },
 "nbformat": 4,
 "nbformat_minor": 2
}
