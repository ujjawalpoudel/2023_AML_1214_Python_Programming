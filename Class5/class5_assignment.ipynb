{
 "cells": [
  {
   "cell_type": "code",
   "execution_count": 1,
   "metadata": {},
   "outputs": [
    {
     "name": "stdout",
     "output_type": "stream",
     "text": [
      "Is car == 'Honda'? I predict it as True\n",
      "True\n"
     ]
    }
   ],
   "source": [
    "# This is class activity\n",
    "# Problem 5.1\n",
    "# Conditional Test\n",
    "\n",
    "car = \"Honda\"\n",
    "print(\"Is car == 'Honda'? I predict it as True\")\n",
    "print(car == \"Honda\")"
   ]
  },
  {
   "cell_type": "code",
   "execution_count": 2,
   "metadata": {},
   "outputs": [
    {
     "name": "stdout",
     "output_type": "stream",
     "text": [
      "Is car == 'Tesla'? I predict it as True\n",
      "True\n"
     ]
    }
   ],
   "source": [
    "car = \"Tesla\"\n",
    "print(\"Is car == 'Tesla'? I predict it as True\")\n",
    "print(car == \"Tesla\")"
   ]
  },
  {
   "cell_type": "code",
   "execution_count": 3,
   "metadata": {},
   "outputs": [
    {
     "name": "stdout",
     "output_type": "stream",
     "text": [
      "Is game == 'Football'? I predict it as True\n",
      "True\n"
     ]
    }
   ],
   "source": [
    "game = \"Football\"\n",
    "print(\"Is game == 'Football'? I predict it as True\")\n",
    "print(game == \"Football\")"
   ]
  },
  {
   "cell_type": "code",
   "execution_count": 4,
   "metadata": {},
   "outputs": [
    {
     "name": "stdout",
     "output_type": "stream",
     "text": [
      "Is game == 'Cricket'? I predict it as True\n",
      "True\n"
     ]
    }
   ],
   "source": [
    "game = \"Cricket\"\n",
    "print(\"Is game == 'Cricket'? I predict it as True\")\n",
    "print(game == \"Cricket\")"
   ]
  },
  {
   "cell_type": "code",
   "execution_count": 5,
   "metadata": {},
   "outputs": [
    {
     "name": "stdout",
     "output_type": "stream",
     "text": [
      "Is game == 'Ice Hockey'? I predict it as True\n",
      "True\n"
     ]
    }
   ],
   "source": [
    "game = \"Ice Hockey\"\n",
    "print(\"Is game == 'Ice Hockey'? I predict it as True\")\n",
    "print(game == \"Ice Hockey\")"
   ]
  },
  {
   "cell_type": "code",
   "execution_count": 6,
   "metadata": {},
   "outputs": [
    {
     "name": "stdout",
     "output_type": "stream",
     "text": [
      "Is fruit == 'Orange'? I predict it as False\n",
      "False\n"
     ]
    }
   ],
   "source": [
    "fruit = \"Apple\"\n",
    "print(\"Is fruit == 'Orange'? I predict it as False\")\n",
    "print(fruit == \"Orange\")"
   ]
  },
  {
   "cell_type": "code",
   "execution_count": 7,
   "metadata": {},
   "outputs": [
    {
     "name": "stdout",
     "output_type": "stream",
     "text": [
      "Is animal == 'Cat'? I predict it as False\n",
      "False\n"
     ]
    }
   ],
   "source": [
    "animal = \"Dog\"\n",
    "print(\"Is animal == 'Cat'? I predict it as False\")\n",
    "print(animal == \"Cat\")"
   ]
  },
  {
   "cell_type": "code",
   "execution_count": 8,
   "metadata": {},
   "outputs": [
    {
     "name": "stdout",
     "output_type": "stream",
     "text": [
      "Is country == 'Nepal'? I predict it as False\n",
      "False\n"
     ]
    }
   ],
   "source": [
    "country = \"Canada\"\n",
    "print(\"Is country == 'Nepal'? I predict it as False\")\n",
    "print(country == \"Nepal\")"
   ]
  },
  {
   "cell_type": "code",
   "execution_count": 9,
   "metadata": {},
   "outputs": [
    {
     "name": "stdout",
     "output_type": "stream",
     "text": [
      "Is animal == 'Goat'? I predict it as False\n",
      "False\n"
     ]
    }
   ],
   "source": [
    "animal = \"Cow\"\n",
    "print(\"Is animal == 'Goat'? I predict it as False\")\n",
    "print(animal == \"Goat\")"
   ]
  },
  {
   "cell_type": "code",
   "execution_count": 10,
   "metadata": {},
   "outputs": [
    {
     "name": "stdout",
     "output_type": "stream",
     "text": [
      "Is country == 'Canada'? I predict it as False\n",
      "False\n"
     ]
    }
   ],
   "source": [
    "country = \"USA\"\n",
    "print(\"Is country == 'Canada'? I predict it as False\")\n",
    "print(country == \"Canada\")"
   ]
  },
  {
   "cell_type": "code",
   "execution_count": 11,
   "metadata": {},
   "outputs": [
    {
     "name": "stdout",
     "output_type": "stream",
     "text": [
      "Both of them(Canada and Canada) are equal or not:- True\n"
     ]
    }
   ],
   "source": [
    "# Problem 5.2\n",
    "# More Conditional test\n",
    "\n",
    "# Test for equality and inequality of string\n",
    "string1 = \"Canada\"\n",
    "string2 = \"Canada\"\n",
    "\n",
    "# test for equality\n",
    "print(f\"Both of them({string1} and {string2}) are equal or not:-\", string1 == string2)"
   ]
  },
  {
   "cell_type": "code",
   "execution_count": 12,
   "metadata": {},
   "outputs": [
    {
     "name": "stdout",
     "output_type": "stream",
     "text": [
      "Both of them(Canada and USA) are equal or not :- False\n"
     ]
    }
   ],
   "source": [
    "string1 = \"Canada\"\n",
    "string2 = \"USA\"\n",
    "\n",
    "# test for inequality\n",
    "print(f\"Both of them({string1} and {string2}) are equal or not :-\", string1 == string2)"
   ]
  },
  {
   "cell_type": "code",
   "execution_count": 13,
   "metadata": {},
   "outputs": [
    {
     "name": "stdout",
     "output_type": "stream",
     "text": [
      "string2 (CANADA) after lower method is canada\n",
      "string1: canada, string2: CANADA, both of them are equal or not? True\n"
     ]
    }
   ],
   "source": [
    "# Test using lower method\n",
    "string1 = \"canada\"\n",
    "string2 = \"CANADA\"\n",
    "\n",
    "# string after lower method\n",
    "string_lower = string2.lower()\n",
    "print(f\"string2 ({string2}) after lower method is {string_lower}\")\n",
    "\n",
    "print(\n",
    "    f\"string1: {string1}, string2: {string2}, both of them are equal or not?\",\n",
    "    string1 == string2.lower(),\n",
    ")"
   ]
  },
  {
   "cell_type": "code",
   "execution_count": 14,
   "metadata": {},
   "outputs": [
    {
     "name": "stdout",
     "output_type": "stream",
     "text": [
      "Comapare between two numbers 4 > 5 is  False\n"
     ]
    }
   ],
   "source": [
    "# Numerical test\n",
    "# test greater than operator\n",
    "a = 4\n",
    "b = 5\n",
    "\n",
    "print(f\"Comapare between two numbers {a} > {b} is \", a > b)"
   ]
  },
  {
   "cell_type": "code",
   "execution_count": 15,
   "metadata": {},
   "outputs": [
    {
     "name": "stdout",
     "output_type": "stream",
     "text": [
      "Comapare between two numbers 4 < 5 is  True\n"
     ]
    }
   ],
   "source": [
    "# test for less than operator\n",
    "a = 4\n",
    "b = 5\n",
    "\n",
    "print(f\"Comapare between two numbers {a} < {b} is \", a < b)"
   ]
  },
  {
   "cell_type": "code",
   "execution_count": 16,
   "metadata": {},
   "outputs": [
    {
     "name": "stdout",
     "output_type": "stream",
     "text": [
      "Comapare between two numbers 4 = 4 is  True\n"
     ]
    }
   ],
   "source": [
    "# test for equal to operator\n",
    "a = 4\n",
    "b = 4\n",
    "\n",
    "print(f\"Comapare between two numbers {a} = {b} is \", a == b)"
   ]
  },
  {
   "cell_type": "code",
   "execution_count": 17,
   "metadata": {},
   "outputs": [
    {
     "name": "stdout",
     "output_type": "stream",
     "text": [
      "Comapare between two numbers 4 = 5 is  False\n"
     ]
    }
   ],
   "source": [
    "# test for equal to operator\n",
    "a = 4\n",
    "b = 5\n",
    "\n",
    "print(f\"Comapare between two numbers {a} = {b} is \", a == b)"
   ]
  },
  {
   "cell_type": "code",
   "execution_count": 18,
   "metadata": {},
   "outputs": [
    {
     "name": "stdout",
     "output_type": "stream",
     "text": [
      "Comapare between two numbers 6 >= 5 is  True\n"
     ]
    }
   ],
   "source": [
    "# test for greater than or equal to operator\n",
    "a = 6\n",
    "b = 5\n",
    "\n",
    "print(f\"Comapare between two numbers {a} >= {b} is \", a >= b)"
   ]
  },
  {
   "cell_type": "code",
   "execution_count": 19,
   "metadata": {},
   "outputs": [
    {
     "name": "stdout",
     "output_type": "stream",
     "text": [
      "Comapare between two numbers 4 <= 5 is  True\n"
     ]
    }
   ],
   "source": [
    "# test for less than or equal to operator\n",
    "a = 4\n",
    "b = 5\n",
    "\n",
    "print(f\"Comapare between two numbers {a} <= {b} is \", a <= b)"
   ]
  },
  {
   "cell_type": "code",
   "execution_count": 20,
   "metadata": {},
   "outputs": [
    {
     "name": "stdout",
     "output_type": "stream",
     "text": [
      "first condition check is  True\n",
      "second condition check is  True\n",
      "first condition && second condition True\n"
     ]
    }
   ],
   "source": [
    "# test using & operator (AND operator)\n",
    "a = 4\n",
    "b = 5\n",
    "\n",
    "first_check = a < b\n",
    "print(\"first condition check is \", first_check)\n",
    "\n",
    "c = 6\n",
    "d = 7\n",
    "second_check = c < d\n",
    "print(\"second condition check is \", second_check)\n",
    "\n",
    "# Both condition is True in above example\n",
    "# Let's test with && operator\n",
    "print(f\"first condition && second condition\", first_check & second_check)"
   ]
  },
  {
   "cell_type": "code",
   "execution_count": 21,
   "metadata": {},
   "outputs": [
    {
     "name": "stdout",
     "output_type": "stream",
     "text": [
      "first condition check is  False\n",
      "second condition check is  True\n",
      "first condition && second condition False\n"
     ]
    }
   ],
   "source": [
    "# test using & operator (AND operator)\n",
    "a = 7\n",
    "b = 5\n",
    "\n",
    "first_check = a < b\n",
    "print(\"first condition check is \", first_check)\n",
    "\n",
    "c = 6\n",
    "d = 7\n",
    "second_check = c < d\n",
    "print(\"second condition check is \", second_check)\n",
    "\n",
    "# Both condition are different one is true and next is false in above example\n",
    "# Let's test with && operator\n",
    "print(f\"first condition && second condition\", first_check & second_check)"
   ]
  },
  {
   "cell_type": "code",
   "execution_count": 22,
   "metadata": {},
   "outputs": [
    {
     "name": "stdout",
     "output_type": "stream",
     "text": [
      "first condition check is  True\n",
      "second condition check is  True\n",
      "first condition || second condition True\n"
     ]
    }
   ],
   "source": [
    "# test using | operator(OR operator)\n",
    "a = 4\n",
    "b = 5\n",
    "\n",
    "first_check = a < b\n",
    "print(\"first condition check is \", first_check)\n",
    "\n",
    "c = 6\n",
    "d = 7\n",
    "second_check = c < d\n",
    "print(\"second condition check is \", second_check)\n",
    "\n",
    "# Both condition is True in above example\n",
    "# Let's test with || operator\n",
    "print(f\"first condition || second condition\", first_check | second_check)"
   ]
  },
  {
   "cell_type": "code",
   "execution_count": 23,
   "metadata": {},
   "outputs": [
    {
     "name": "stdout",
     "output_type": "stream",
     "text": [
      "first condition check is  False\n",
      "second condition check is  False\n",
      "first condition || second condition False\n"
     ]
    }
   ],
   "source": [
    "# test using | operator(OR operator)\n",
    "a = 7\n",
    "b = 5\n",
    "\n",
    "first_check = a < b\n",
    "print(\"first condition check is \", first_check)\n",
    "\n",
    "c = 6\n",
    "d = 4\n",
    "second_check = c < d\n",
    "print(\"second condition check is \", second_check)\n",
    "\n",
    "# Both condition are different one is true and next is false in above example\n",
    "# Let's test with || operator\n",
    "print(f\"first condition || second condition\", first_check | second_check)"
   ]
  },
  {
   "cell_type": "code",
   "execution_count": 24,
   "metadata": {},
   "outputs": [
    {
     "name": "stdout",
     "output_type": "stream",
     "text": [
      "Value Z is in list or not? False\n",
      "Value A is in list or not? True\n"
     ]
    }
   ],
   "source": [
    "# test items is present in list or not\n",
    "alphabetic_list = [\"A\", \"B\", \"C\", \"D\", \"E\", \"F\", \"G\", \"H\", \"I\", \"J\"]\n",
    "\n",
    "check_value = \"Z\"\n",
    "print(f\"Value {check_value} is in list or not?\", check_value in alphabetic_list)\n",
    "\n",
    "check_value = \"A\"\n",
    "print(f\"Value {check_value} is in list or not?\", check_value in alphabetic_list)"
   ]
  },
  {
   "cell_type": "code",
   "execution_count": 25,
   "metadata": {},
   "outputs": [
    {
     "name": "stdout",
     "output_type": "stream",
     "text": [
      "Congratulation !, You have earned 5 points.\n"
     ]
    }
   ],
   "source": [
    "# Problem 5.3\n",
    "# Alien Colour 1\n",
    "\n",
    "alien_colour = [\"green\", \"yellow\", \"red\"]\n",
    "\n",
    "\n",
    "def check_alien_colour(colour_of_alien):\n",
    "    if colour_of_alien in alien_colour:\n",
    "        print(\"Congratulation !, You have earned 5 points.\")\n",
    "    else:\n",
    "        # If condition did not statify then no output for that operation\n",
    "        pass\n",
    "\n",
    "\n",
    "# first check colour with yellow\n",
    "check_alien_colour(\"yellow\")\n",
    "\n",
    "# second check colour with blue\n",
    "check_alien_colour(\"blue\")"
   ]
  },
  {
   "cell_type": "code",
   "execution_count": 26,
   "metadata": {},
   "outputs": [
    {
     "name": "stdout",
     "output_type": "stream",
     "text": [
      "Congratulation !, You have earned 5 points.\n",
      "Congratulation !, You have earned 10 points.\n",
      "Congratulation !, You have earned 10 points.\n"
     ]
    }
   ],
   "source": [
    "# Problem 5.4\n",
    "# alien colour 2\n",
    "\n",
    "\n",
    "def check_alien_colour(colour_of_alien):\n",
    "    if colour_of_alien == \"green\":\n",
    "        print(\"Congratulation !, You have earned 5 points.\")\n",
    "    else:\n",
    "        print(\"Congratulation !, You have earned 10 points.\")\n",
    "\n",
    "\n",
    "# first check colour with yellow\n",
    "check_alien_colour(\"green\")\n",
    "\n",
    "# second check colour with blue\n",
    "check_alien_colour(\"blue\")\n",
    "\n",
    "# second check colour with black\n",
    "check_alien_colour(\"black\")"
   ]
  },
  {
   "cell_type": "code",
   "execution_count": 27,
   "metadata": {},
   "outputs": [
    {
     "name": "stdout",
     "output_type": "stream",
     "text": [
      "Congratulation !, You have earned 5 points.\n",
      "Congratulation !, You have earned 10 points.\n",
      "Congratulation !, You have earned 15 points.\n"
     ]
    }
   ],
   "source": [
    "# Problem 5.5\n",
    "# alien colour 3\n",
    "\n",
    "\n",
    "def check_alien_colour(colour_of_alien):\n",
    "    if colour_of_alien == \"green\":\n",
    "        print(\"Congratulation !, You have earned 5 points.\")\n",
    "    elif colour_of_alien == \"yellow\":\n",
    "        print(\"Congratulation !, You have earned 10 points.\")\n",
    "    elif colour_of_alien == \"red\":\n",
    "        print(\"Congratulation !, You have earned 15 points.\")\n",
    "\n",
    "\n",
    "# first check colour with yellow\n",
    "check_alien_colour(\"green\")\n",
    "\n",
    "# second check colour with blue\n",
    "check_alien_colour(\"yellow\")\n",
    "\n",
    "# second check colour with black\n",
    "check_alien_colour(\"red\")"
   ]
  },
  {
   "cell_type": "code",
   "execution_count": 28,
   "metadata": {},
   "outputs": [
    {
     "name": "stdout",
     "output_type": "stream",
     "text": [
      "Person is baby.\n",
      "Person is toddler.\n",
      "Person is kid.\n",
      "Person is teenager.\n",
      "Person is adult.\n",
      "Person is elder.\n"
     ]
    }
   ],
   "source": [
    "# Problem 5.6\n",
    "# Stages of Life\n",
    "\n",
    "\n",
    "def stage_of_life(age):\n",
    "    if age < 2:\n",
    "        print(\"Person is baby.\")\n",
    "    elif age >= 2 and age < 4:\n",
    "        print(\"Person is toddler.\")\n",
    "    elif age >= 4 and age < 13:\n",
    "        print(\"Person is kid.\")\n",
    "    elif age >= 13 and age < 20:\n",
    "        print(\"Person is teenager.\")\n",
    "    elif age >= 20 and age < 65:\n",
    "        print(\"Person is adult.\")\n",
    "    elif age >= 65:\n",
    "        print(\"Person is elder.\")\n",
    "\n",
    "\n",
    "stage_of_life(1)\n",
    "stage_of_life(3)\n",
    "stage_of_life(12)\n",
    "stage_of_life(14)\n",
    "stage_of_life(25)\n",
    "stage_of_life(65)"
   ]
  },
  {
   "cell_type": "code",
   "execution_count": 29,
   "metadata": {},
   "outputs": [
    {
     "name": "stdout",
     "output_type": "stream",
     "text": [
      "You really like Banana\n",
      "You really like Mango\n",
      "You really like Apple\n",
      "You don't like Orange\n"
     ]
    }
   ],
   "source": [
    "# Problem 5.7\n",
    "# favorite fruit\n",
    "\n",
    "favorite_fruits = [\"Mango\", \"Banana\", \"Apple\"]\n",
    "\n",
    "\n",
    "def check_favorite_fruits(fruit_name):\n",
    "    if fruit_name in favorite_fruits:\n",
    "        print(f\"You really like {fruit_name}\")\n",
    "    elif fruit_name not in favorite_fruits:\n",
    "        print(f\"You don't like {fruit_name}\")\n",
    "\n",
    "\n",
    "check_favorite_fruits(\"Banana\")\n",
    "check_favorite_fruits(\"Mango\")\n",
    "check_favorite_fruits(\"Apple\")\n",
    "check_favorite_fruits(\"Orange\")"
   ]
  },
  {
   "cell_type": "code",
   "execution_count": 30,
   "metadata": {},
   "outputs": [
    {
     "name": "stdout",
     "output_type": "stream",
     "text": [
      "Hello Admin, Would you like to see status report?\n",
      "Hello student_username, Thank you for logging again.\n"
     ]
    }
   ],
   "source": [
    "# Problem 5.8\n",
    "# Hellow Admin\n",
    "\n",
    "list_users = [\n",
    "    \"admin\",\n",
    "    \"student_username\",\n",
    "    \"staff_username\",\n",
    "    \"professor_username\",\n",
    "    \"dean_username\",\n",
    "]\n",
    "\n",
    "\n",
    "def check_username(username):\n",
    "    if username == \"admin\":\n",
    "        print(\"Hello Admin, Would you like to see status report?\")\n",
    "    else:\n",
    "        print(f\"Hello {username}, Thank you for logging again.\")\n",
    "\n",
    "\n",
    "check_username(\"admin\")\n",
    "check_username(\"student_username\")"
   ]
  },
  {
   "cell_type": "code",
   "execution_count": 31,
   "metadata": {},
   "outputs": [
    {
     "name": "stdout",
     "output_type": "stream",
     "text": [
      "We need to find some users\n"
     ]
    }
   ],
   "source": [
    "# Problem 5.9\n",
    "# no user\n",
    "username_list = []\n",
    "\n",
    "if len(username_list) == 0:\n",
    "    print(\"We need to find some users\")"
   ]
  },
  {
   "cell_type": "code",
   "execution_count": 32,
   "metadata": {},
   "outputs": [
    {
     "name": "stdout",
     "output_type": "stream",
     "text": [
      "Your username (new_user1) is available.\n",
      "You need to enter a new username.\n",
      "Your username (new_user3) is available.\n",
      "Your username (new_user4) is available.\n",
      "You need to enter a new username.\n"
     ]
    }
   ],
   "source": [
    "# Problem 5.10\n",
    "# Checking username\n",
    "\n",
    "current_users = [\n",
    "    \"current_user1\",\n",
    "    \"current_user2\",\n",
    "    \"new_user5\",\n",
    "    \"current_user4\",\n",
    "    \"new_user2\",\n",
    "]\n",
    "new_users = [\"new_user1\", \"new_user2\", \"new_user3\", \"new_user4\", \"new_user5\"]\n",
    "\n",
    "for user in new_users:\n",
    "    if user in current_users:\n",
    "        print(\"You need to enter a new username.\")\n",
    "    else:\n",
    "        print(f\"Your username ({user}) is available.\")"
   ]
  },
  {
   "cell_type": "code",
   "execution_count": 33,
   "metadata": {},
   "outputs": [
    {
     "name": "stdout",
     "output_type": "stream",
     "text": [
      "1st\n",
      "2nd\n",
      "3rd\n",
      "4th\n",
      "5th\n",
      "6th\n",
      "7th\n",
      "8th\n",
      "9th\n"
     ]
    }
   ],
   "source": [
    "# Problem 5.8\n",
    "# Ordinal numbers\n",
    "\n",
    "numbers_list = [1, 2, 3, 4, 5, 6, 7, 8, 9]\n",
    "\n",
    "for num in numbers_list:\n",
    "    if num == 1:\n",
    "        print(\"1st\")\n",
    "    elif num == 2:\n",
    "        print(\"2nd\")\n",
    "    elif num == 3:\n",
    "        print(\"3rd\")\n",
    "    elif num == 4:\n",
    "        print(\"4th\")\n",
    "    elif num == 5:\n",
    "        print(\"5th\")\n",
    "    elif num == 6:\n",
    "        print(\"6th\")\n",
    "    elif num == 7:\n",
    "        print(\"7th\")\n",
    "    elif num == 8:\n",
    "        print(\"8th\")\n",
    "    elif num == 9:\n",
    "        print(\"9th\")"
   ]
  },
  {
   "cell_type": "code",
   "execution_count": null,
   "metadata": {},
   "outputs": [],
   "source": []
  }
 ],
 "metadata": {
  "kernelspec": {
   "display_name": "venv",
   "language": "python",
   "name": "python3"
  },
  "language_info": {
   "codemirror_mode": {
    "name": "ipython",
    "version": 3
   },
   "file_extension": ".py",
   "mimetype": "text/x-python",
   "name": "python",
   "nbconvert_exporter": "python",
   "pygments_lexer": "ipython3",
   "version": "3.11.1"
  },
  "orig_nbformat": 4,
  "vscode": {
   "interpreter": {
    "hash": "4bd58a8644b61b6c7d97eb55798a9755f8c5a7cb35df105ea1c909605ac889c8"
   }
  }
 },
 "nbformat": 4,
 "nbformat_minor": 2
}
