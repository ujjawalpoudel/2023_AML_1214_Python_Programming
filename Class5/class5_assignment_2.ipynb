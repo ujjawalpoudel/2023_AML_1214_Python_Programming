{
 "cells": [
  {
   "cell_type": "code",
   "execution_count": 1,
   "metadata": {},
   "outputs": [
    {
     "name": "stdout",
     "output_type": "stream",
     "text": [
      "Length of  Python is 6\n"
     ]
    }
   ],
   "source": [
    "# Question Number 1\n",
    "\n",
    "\n",
    "def length_calcualte(name):\n",
    "    length_of_name = len(name)\n",
    "    return length_of_name\n",
    "\n",
    "\n",
    "string_name = \"Python\"\n",
    "print(f\"Length of  {string_name} is\", length_calcualte(string_name))"
   ]
  },
  {
   "cell_type": "code",
   "execution_count": 2,
   "metadata": {},
   "outputs": [
    {
     "name": "stdout",
     "output_type": "stream",
     "text": [
      "{'g': 2, 'o': 2, 'l': 1, 'e': 1}\n"
     ]
    }
   ],
   "source": [
    "# Question Number 2\n",
    "\n",
    "string_frequency_count = {}\n",
    "\n",
    "\n",
    "def frequency_count(name):\n",
    "    for x in name:\n",
    "        if x in string_frequency_count:\n",
    "            string_frequency_count[x] += 1\n",
    "        else:\n",
    "            string_frequency_count[x] = 1\n",
    "    return string_frequency_count\n",
    "\n",
    "\n",
    "name = \"google\"\n",
    "print(frequency_count(name))"
   ]
  },
  {
   "cell_type": "code",
   "execution_count": 3,
   "metadata": {},
   "outputs": [
    {
     "name": "stdout",
     "output_type": "stream",
     "text": [
      "Given String (Canada) is converted to lower and result is canada\n",
      "Given String (Canada) is converted to upper and result is CANADA\n",
      "Casefold of given String (I live in Canada) is i live in canada\n",
      "Capitalize of given String (i live in Canada) is I live in canada\n",
      "Count occurrences of o in football is 2\n",
      "Index of o in python is 4\n",
      "0987654321 is digit or not?  True\n",
      "hello is alpha or not?  True\n"
     ]
    }
   ],
   "source": [
    "# Question Number 3\n",
    "\n",
    "string_my_choice = \"Canada\"\n",
    "\n",
    "# First Operation of String\n",
    "# Change in lower case\n",
    "print(\n",
    "    f\"Given String ({string_my_choice}) is converted to lower and result is {string_my_choice.lower()}\"\n",
    ")\n",
    "\n",
    "# Second Operation of String\n",
    "# Change in upper case\n",
    "print(\n",
    "    f\"Given String ({string_my_choice}) is converted to upper and result is {string_my_choice.upper()}\"\n",
    ")\n",
    "\n",
    "# Third Operation of String\n",
    "# Implement casefold in given string\n",
    "string_my_choice = \"I live in Canada\"\n",
    "print(f\"Casefold of given String ({string_my_choice}) is {string_my_choice.casefold()}\")\n",
    "\n",
    "# Fourth Operation of String\n",
    "# Implement capitalization in given string\n",
    "string_my_choice = \"i live in Canada\"\n",
    "print(\n",
    "    f\"Capitalize of given String ({string_my_choice}) is {string_my_choice.capitalize()}\"\n",
    ")\n",
    "\n",
    "# Fifth Operation of String\n",
    "# Count the occurrences of particular characters\n",
    "string_my_choice = \"football\"\n",
    "character_name = \"o\"\n",
    "print(\n",
    "    f\"Count occurrences of {character_name} in {string_my_choice} is {string_my_choice.count(character_name)}\"\n",
    ")\n",
    "\n",
    "# Sixth Operation of String\n",
    "# Find index of given character\n",
    "string_my_choice = \"python\"\n",
    "index_character = \"o\"\n",
    "print(\n",
    "    f\"Index of {index_character} in {string_my_choice} is {string_my_choice.index(index_character)}\"\n",
    ")\n",
    "\n",
    "# Seventh Operation of String\n",
    "# Check if given string is digit or not\n",
    "string_my_choice = \"0987654321\"\n",
    "print(f\"{string_my_choice} is digit or not? \", string_my_choice.isdigit())\n",
    "\n",
    "# Eighth Operation of String\n",
    "# Check if given string is alpha or not\n",
    "string_my_choice = \"hello\"\n",
    "print(f\"{string_my_choice} is alpha or not? \", string_my_choice.isalpha())"
   ]
  },
  {
   "cell_type": "code",
   "execution_count": 4,
   "metadata": {},
   "outputs": [
    {
     "name": "stdout",
     "output_type": "stream",
     "text": [
      "90 degrees Fahrenheit at temperature is equal to 32.22222222222222 degrees of Celsius\n"
     ]
    }
   ],
   "source": [
    "# Question Number 4\n",
    "\n",
    "\n",
    "def convert_fahrenheit_to_celsius(temperature):\n",
    "    celsius = (5 * (temperature - 32)) / 9\n",
    "    return celsius\n",
    "\n",
    "\n",
    "fahrenheit_temp = 90\n",
    "celsius_value = convert_fahrenheit_to_celsius(fahrenheit_temp)\n",
    "\n",
    "\n",
    "print(\n",
    "    f\"{fahrenheit_temp} degrees Fahrenheit at temperature is equal to {celsius_value} degrees of Celsius\"\n",
    ")"
   ]
  },
  {
   "cell_type": "code",
   "execution_count": null,
   "metadata": {},
   "outputs": [],
   "source": []
  }
 ],
 "metadata": {
  "kernelspec": {
   "display_name": "venv",
   "language": "python",
   "name": "python3"
  },
  "language_info": {
   "codemirror_mode": {
    "name": "ipython",
    "version": 3
   },
   "file_extension": ".py",
   "mimetype": "text/x-python",
   "name": "python",
   "nbconvert_exporter": "python",
   "pygments_lexer": "ipython3",
   "version": "3.11.1"
  },
  "orig_nbformat": 4,
  "vscode": {
   "interpreter": {
    "hash": "4bd58a8644b61b6c7d97eb55798a9755f8c5a7cb35df105ea1c909605ac889c8"
   }
  }
 },
 "nbformat": 4,
 "nbformat_minor": 2
}
