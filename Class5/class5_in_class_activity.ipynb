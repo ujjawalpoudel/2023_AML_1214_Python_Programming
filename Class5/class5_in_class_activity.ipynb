{
 "cells": [
  {
   "cell_type": "code",
   "execution_count": 25,
   "metadata": {},
   "outputs": [
    {
     "name": "stdout",
     "output_type": "stream",
     "text": [
      "Welcome to Canada.\n"
     ]
    }
   ],
   "source": [
    "# String data type\n",
    "print(\"Welcome to Canada.\")"
   ]
  },
  {
   "cell_type": "code",
   "execution_count": 26,
   "metadata": {},
   "outputs": [
    {
     "name": "stdout",
     "output_type": "stream",
     "text": [
      "Author says, \"Welcome to Canada.\"\n"
     ]
    }
   ],
   "source": [
    "# Declare variables\n",
    "string1 = 'Author says, \"Welcome to Canada.\"'\n",
    "print(string1)"
   ]
  },
  {
   "cell_type": "code",
   "execution_count": 27,
   "metadata": {},
   "outputs": [
    {
     "name": "stdout",
     "output_type": "stream",
     "text": [
      "Author says, \n",
      "Welcome to Canada.\n"
     ]
    }
   ],
   "source": [
    "# \\n for new line\n",
    "print(\"Author says, \\nWelcome to Canada.\")"
   ]
  },
  {
   "cell_type": "code",
   "execution_count": 28,
   "metadata": {},
   "outputs": [
    {
     "name": "stdout",
     "output_type": "stream",
     "text": [
      "Author says, \t Welcome to Canada.\n"
     ]
    }
   ],
   "source": [
    "# \\t for tab\n",
    "print(\"Author says, \\t Welcome to Canada.\")"
   ]
  },
  {
   "cell_type": "code",
   "execution_count": 29,
   "metadata": {},
   "outputs": [
    {
     "name": "stdout",
     "output_type": "stream",
     "text": [
      "e roses\n"
     ]
    }
   ],
   "source": [
    "# indexing for string\n",
    "string1 = \"I love roses\"\n",
    "print(string1[-7:])"
   ]
  },
  {
   "cell_type": "code",
   "execution_count": 30,
   "metadata": {},
   "outputs": [
    {
     "name": "stdout",
     "output_type": "stream",
     "text": [
      "A\n",
      "B\n",
      "C\n",
      "D\n",
      "E\n"
     ]
    }
   ],
   "source": [
    "# use for loop to print string\n",
    "string2 = \"ABCDE\"\n",
    "for alphabet in string2:\n",
    "    print(alphabet)"
   ]
  },
  {
   "cell_type": "code",
   "execution_count": null,
   "metadata": {},
   "outputs": [],
   "source": []
  }
 ],
 "metadata": {
  "kernelspec": {
   "display_name": "venv",
   "language": "python",
   "name": "python3"
  },
  "language_info": {
   "codemirror_mode": {
    "name": "ipython",
    "version": 3
   },
   "file_extension": ".py",
   "mimetype": "text/x-python",
   "name": "python",
   "nbconvert_exporter": "python",
   "pygments_lexer": "ipython3",
   "version": "3.11.1"
  },
  "orig_nbformat": 4,
  "vscode": {
   "interpreter": {
    "hash": "4bd58a8644b61b6c7d97eb55798a9755f8c5a7cb35df105ea1c909605ac889c8"
   }
  }
 },
 "nbformat": 4,
 "nbformat_minor": 2
}
