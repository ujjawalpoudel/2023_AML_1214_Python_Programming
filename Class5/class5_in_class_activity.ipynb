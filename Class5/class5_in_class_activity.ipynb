{
 "cells": [
  {
   "cell_type": "code",
   "execution_count": 7,
   "metadata": {},
   "outputs": [
    {
     "name": "stdout",
     "output_type": "stream",
     "text": [
      "Welcome to Canada.\n"
     ]
    }
   ],
   "source": [
    "# String data type\n",
    "print(\"Welcome to Canada.\")"
   ]
  },
  {
   "cell_type": "code",
   "execution_count": 8,
   "metadata": {},
   "outputs": [
    {
     "name": "stdout",
     "output_type": "stream",
     "text": [
      "Author says, \"Welcome to Canada.\"\n"
     ]
    }
   ],
   "source": [
    "# Declare variables\n",
    "string1 = 'Author says, \"Welcome to Canada.\"'\n",
    "print(string1)"
   ]
  },
  {
   "cell_type": "code",
   "execution_count": 9,
   "metadata": {},
   "outputs": [
    {
     "name": "stdout",
     "output_type": "stream",
     "text": [
      "Author says, \"Welcome to Canada.\"\n"
     ]
    }
   ],
   "source": [
    "string2 = 'Author says, \"Welcome to Canada.\"'\n",
    "print(string2)"
   ]
  },
  {
   "cell_type": "code",
   "execution_count": null,
   "metadata": {},
   "outputs": [],
   "source": []
  }
 ],
 "metadata": {
  "kernelspec": {
   "display_name": "venv",
   "language": "python",
   "name": "python3"
  },
  "language_info": {
   "codemirror_mode": {
    "name": "ipython",
    "version": 3
   },
   "file_extension": ".py",
   "mimetype": "text/x-python",
   "name": "python",
   "nbconvert_exporter": "python",
   "pygments_lexer": "ipython3",
   "version": "3.11.1"
  },
  "orig_nbformat": 4,
  "vscode": {
   "interpreter": {
    "hash": "4bd58a8644b61b6c7d97eb55798a9755f8c5a7cb35df105ea1c909605ac889c8"
   }
  }
 },
 "nbformat": 4,
 "nbformat_minor": 2
}
